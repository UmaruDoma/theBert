{
 "cells": [
  {
   "cell_type": "code",
   "execution_count": 9,
   "metadata": {},
   "outputs": [
    {
     "data": {
      "text/html": [
       "<pre style=\"white-space:pre;overflow-x:auto;line-height:normal;font-family:Menlo,'DejaVu Sans Mono',consolas,'Courier New',monospace\">\n",
       "</pre>\n"
      ],
      "text/plain": [
       "\n"
      ]
     },
     "metadata": {},
     "output_type": "display_data"
    },
    {
     "data": {
      "text/html": [
       "<pre style=\"white-space:pre;overflow-x:auto;line-height:normal;font-family:Menlo,'DejaVu Sans Mono',consolas,'Courier New',monospace\"> Roundtrip  <span style=\"font-weight: bold\">9</span>ms  <span style=\"color: #7f7f7f; text-decoration-color: #7f7f7f\">100%</span> \n",
       "├──  Client-server network  <span style=\"font-weight: bold\">7</span>ms  <span style=\"color: #7f7f7f; text-decoration-color: #7f7f7f\">78%</span> \n",
       "└──  Server  <span style=\"font-weight: bold\">2</span>ms  <span style=\"color: #7f7f7f; text-decoration-color: #7f7f7f\">22%</span> \n",
       "    ├──  Gateway-CLIP network  <span style=\"font-weight: bold\">0</span>ms  <span style=\"color: #7f7f7f; text-decoration-color: #7f7f7f\">0%</span> \n",
       "    └──  CLIP model  <span style=\"font-weight: bold\">2</span>ms  <span style=\"color: #7f7f7f; text-decoration-color: #7f7f7f\">100%</span> \n",
       "</pre>\n"
      ],
      "text/plain": [
       " Roundtrip  \u001b[1m9\u001b[0mms  \u001b[2m100%\u001b[0m \n",
       "├──  Client-server network  \u001b[1m7\u001b[0mms  \u001b[2m78%\u001b[0m \n",
       "└──  Server  \u001b[1m2\u001b[0mms  \u001b[2m22%\u001b[0m \n",
       "    ├──  Gateway-CLIP network  \u001b[1m0\u001b[0mms  \u001b[2m0%\u001b[0m \n",
       "    └──  CLIP model  \u001b[1m2\u001b[0mms  \u001b[2m100%\u001b[0m \n"
      ]
     },
     "metadata": {},
     "output_type": "display_data"
    },
    {
     "data": {
      "text/html": [
       "<pre style=\"white-space:pre;overflow-x:auto;line-height:normal;font-family:Menlo,'DejaVu Sans Mono',consolas,'Courier New',monospace\">\n",
       "</pre>\n"
      ],
      "text/plain": [
       "\n"
      ]
     },
     "metadata": {},
     "output_type": "display_data"
    },
    {
     "data": {
      "text/html": [
       "<pre style=\"white-space:pre;overflow-x:auto;line-height:normal;font-family:Menlo,'DejaVu Sans Mono',consolas,'Courier New',monospace\">\n",
       "</pre>\n"
      ],
      "text/plain": [
       "\n"
      ]
     },
     "metadata": {},
     "output_type": "display_data"
    },
    {
     "name": "stdout",
     "output_type": "stream",
     "text": [
      "(3, 512)\n"
     ]
    },
    {
     "data": {
      "text/html": [
       "<pre style=\"white-space:pre;overflow-x:auto;line-height:normal;font-family:Menlo,'DejaVu Sans Mono',consolas,'Courier New',monospace\">\n",
       "</pre>\n"
      ],
      "text/plain": [
       "\n"
      ]
     },
     "metadata": {},
     "output_type": "display_data"
    },
    {
     "data": {
      "text/html": [
       "<pre style=\"white-space:pre;overflow-x:auto;line-height:normal;font-family:Menlo,'DejaVu Sans Mono',consolas,'Courier New',monospace\">\n",
       "</pre>\n"
      ],
      "text/plain": [
       "\n"
      ]
     },
     "metadata": {},
     "output_type": "display_data"
    },
    {
     "name": "stdout",
     "output_type": "stream",
     "text": [
      "(3, 512)\n"
     ]
    },
    {
     "data": {
      "text/html": [
       "<pre style=\"white-space:pre;overflow-x:auto;line-height:normal;font-family:Menlo,'DejaVu Sans Mono',consolas,'Courier New',monospace\">\n",
       "</pre>\n"
      ],
      "text/plain": [
       "\n"
      ]
     },
     "metadata": {},
     "output_type": "display_data"
    },
    {
     "data": {
      "text/html": [
       "<pre style=\"white-space:pre;overflow-x:auto;line-height:normal;font-family:Menlo,'DejaVu Sans Mono',consolas,'Courier New',monospace\">\n",
       "</pre>\n"
      ],
      "text/plain": [
       "\n"
      ]
     },
     "metadata": {},
     "output_type": "display_data"
    },
    {
     "name": "stdout",
     "output_type": "stream",
     "text": [
      "[[-0.04674519  0.4140792   0.02009797 ... -0.2733833  -0.02278778\n",
      "   0.30551416]\n",
      " [ 0.28850675  0.5018768  -0.39122477 ...  0.17801179  0.19463882\n",
      "   0.4167092 ]\n",
      " [ 0.7418528   0.21716736 -0.40708378 ... -0.03595336 -0.03726075\n",
      "   0.10719021]\n",
      " [ 0.3472856  -0.15688512  0.34337327 ... -0.13065265 -0.34044668\n",
      "  -0.5680742 ]]\n"
     ]
    }
   ],
   "source": [
    "from clip_client import Client\n",
    "c = Client('grpc://172.16.5.4:51000')\n",
    "c.profile()\n",
    "# get text embedding\n",
    "r = c.encode(['First do it', 'then do it right', 'then do it better'])\n",
    "print(r.shape)  # [3, 512] \n",
    "\n",
    "r = c.encode(['apple.png',  # local image \n",
    "              'https://clip-as-service.jina.ai/_static/favicon.png',  # remote image\n",
    "              'data:image/gif;base64,R0lGODlhEAAQAMQAAORHHOVSKudfOulrSOp3WOyDZu6QdvCchPGolfO0o/XBs/fNwfjZ0frl3/zy7////wAAAAAAAAAAAAAAAAAAAAAAAAAAAAAAAAAAAAAAAAAAAAAAAAAAAAAAAAAAAAAAACH5BAkAABAALAAAAAAQABAAAAVVICSOZGlCQAosJ6mu7fiyZeKqNKToQGDsM8hBADgUXoGAiqhSvp5QAnQKGIgUhwFUYLCVDFCrKUE1lBavAViFIDlTImbKC5Gm2hB0SlBCBMQiB0UjIQA7'])  # in image URI\n",
    "\n",
    "print(r.shape)  # [3, 512]\n",
    "\n",
    "r = c.encode(\n",
    "    [\n",
    "        'she smiled, with pain',\n",
    "        'apple.png',\n",
    "        'https://clip-as-service.jina.ai/_static/favicon.png',\n",
    "        'data:image/gif;base64,R0lGODlhEAAQAMQAAORHHOVSKudfOulrSOp3WOyDZu6QdvCchPGolfO0o/XBs/fNwfjZ0frl3/zy7////wAAAAAAAAAAAAAAAAAAAAAAAAAAAAAAAAAAAAAAAAAAAAAAAAAAAAAAAAAAAAAAACH5BAkAABAALAAAAAAQABAAAAVVICSOZGlCQAosJ6mu7fiyZeKqNKToQGDsM8hBADgUXoGAiqhSvp5QAnQKGIgUhwFUYLCVDFCrKUE1lBavAViFIDlTImbKC5Gm2hB0SlBCBMQiB0UjIQA7',\n",
    "    ]\n",
    ")\n",
    "print(r)"
   ]
  }
 ],
 "metadata": {
  "kernelspec": {
   "display_name": "Python 3",
   "language": "python",
   "name": "python3"
  },
  "language_info": {
   "codemirror_mode": {
    "name": "ipython",
    "version": 3
   },
   "file_extension": ".py",
   "mimetype": "text/x-python",
   "name": "python",
   "nbconvert_exporter": "python",
   "pygments_lexer": "ipython3",
   "version": "3.10.13"
  }
 },
 "nbformat": 4,
 "nbformat_minor": 2
}
