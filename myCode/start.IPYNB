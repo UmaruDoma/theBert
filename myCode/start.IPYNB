{
 "cells": [
  {
   "cell_type": "code",
   "execution_count": 7,
   "metadata": {},
   "outputs": [
    {
     "data": {
      "text/html": [
       "<pre style=\"white-space:pre;overflow-x:auto;line-height:normal;font-family:Menlo,'DejaVu Sans Mono',consolas,'Courier New',monospace\">\n",
       "</pre>\n"
      ],
      "text/plain": [
       "\n"
      ]
     },
     "metadata": {},
     "output_type": "display_data"
    },
    {
     "data": {
      "text/html": [
       "<pre style=\"white-space:pre;overflow-x:auto;line-height:normal;font-family:Menlo,'DejaVu Sans Mono',consolas,'Courier New',monospace\"> Roundtrip  <span style=\"font-weight: bold\">10</span>ms  <span style=\"color: #7f7f7f; text-decoration-color: #7f7f7f\">100%</span> \n",
       "├──  Client-server network  <span style=\"font-weight: bold\">7</span>ms  <span style=\"color: #7f7f7f; text-decoration-color: #7f7f7f\">70%</span> \n",
       "└──  Server  <span style=\"font-weight: bold\">3</span>ms  <span style=\"color: #7f7f7f; text-decoration-color: #7f7f7f\">30%</span> \n",
       "    ├──  Gateway-CLIP network  <span style=\"font-weight: bold\">1</span>ms  <span style=\"color: #7f7f7f; text-decoration-color: #7f7f7f\">33%</span> \n",
       "    └──  CLIP model  <span style=\"font-weight: bold\">2</span>ms  <span style=\"color: #7f7f7f; text-decoration-color: #7f7f7f\">67%</span> \n",
       "</pre>\n"
      ],
      "text/plain": [
       " Roundtrip  \u001b[1m10\u001b[0mms  \u001b[2m100%\u001b[0m \n",
       "├──  Client-server network  \u001b[1m7\u001b[0mms  \u001b[2m70%\u001b[0m \n",
       "└──  Server  \u001b[1m3\u001b[0mms  \u001b[2m30%\u001b[0m \n",
       "    ├──  Gateway-CLIP network  \u001b[1m1\u001b[0mms  \u001b[2m33%\u001b[0m \n",
       "    └──  CLIP model  \u001b[1m2\u001b[0mms  \u001b[2m67%\u001b[0m \n"
      ]
     },
     "metadata": {},
     "output_type": "display_data"
    },
    {
     "data": {
      "text/html": [
       "<pre style=\"white-space:pre;overflow-x:auto;line-height:normal;font-family:Menlo,'DejaVu Sans Mono',consolas,'Courier New',monospace\">\n",
       "</pre>\n"
      ],
      "text/plain": [
       "\n"
      ]
     },
     "metadata": {},
     "output_type": "display_data"
    },
    {
     "data": {
      "text/html": [
       "<pre style=\"white-space:pre;overflow-x:auto;line-height:normal;font-family:Menlo,'DejaVu Sans Mono',consolas,'Courier New',monospace\">\n",
       "</pre>\n"
      ],
      "text/plain": [
       "\n"
      ]
     },
     "metadata": {},
     "output_type": "display_data"
    },
    {
     "name": "stdout",
     "output_type": "stream",
     "text": [
      "(3, 512)\n"
     ]
    },
    {
     "data": {
      "text/html": [
       "<pre style=\"white-space:pre;overflow-x:auto;line-height:normal;font-family:Menlo,'DejaVu Sans Mono',consolas,'Courier New',monospace\"><span style=\"background-color: #800000; font-weight: bold\">CRITI…</span> JINA@<span style=\"color: #008080; text-decoration-color: #008080; font-weight: bold\">8338</span> inputs is not valid! <span style=\"color: #800080; text-decoration-color: #800080; font-weight: bold\">FileNotFoundError</span><span style=\"font-weight: bold\">(</span><span style=\"color: #008000; text-decoration-color: #008000\">'`apple.png` is not a URL or a valid </span>   <span style=\"color: #7f7f7f; text-decoration-color: #7f7f7f\">[01/06/24 18:17:18]</span>\n",
       "       <span style=\"color: #008000; text-decoration-color: #008000\">local path'</span><span style=\"font-weight: bold\">)</span>                                                                             <span style=\"color: #7f7f7f; text-decoration-color: #7f7f7f\">                   </span>\n",
       "       Traceback <span style=\"font-weight: bold\">(</span>most recent call last<span style=\"font-weight: bold\">)</span>:                                                       <span style=\"color: #7f7f7f; text-decoration-color: #7f7f7f\">                   </span>\n",
       "         File                                                                                   <span style=\"color: #7f7f7f; text-decoration-color: #7f7f7f\">                   </span>\n",
       "       <span style=\"color: #008000; text-decoration-color: #008000\">\"/home/codespace/.python/current/lib/python3.10/site-packages/jina/clients/request/__in…</span> <span style=\"color: #7f7f7f; text-decoration-color: #7f7f7f\">                   </span>\n",
       "       line <span style=\"color: #008080; text-decoration-color: #008080; font-weight: bold\">72</span>, in request_generator                                                            <span style=\"color: #7f7f7f; text-decoration-color: #7f7f7f\">                   </span>\n",
       "           for batch in <span style=\"color: #800080; text-decoration-color: #800080; font-weight: bold\">batch_iterator</span><span style=\"font-weight: bold\">(</span>data, request_size<span style=\"font-weight: bold\">)</span>:                                     <span style=\"color: #7f7f7f; text-decoration-color: #7f7f7f\">                   </span>\n",
       "         File <span style=\"color: #008000; text-decoration-color: #008000\">\"/home/codespace/.python/current/lib/python3.10/site-packages/jina/helper.py\"</span>,    <span style=\"color: #7f7f7f; text-decoration-color: #7f7f7f\">                   </span>\n",
       "       line <span style=\"color: #008080; text-decoration-color: #008080; font-weight: bold\">269</span>, in batch_iterator                                                              <span style=\"color: #7f7f7f; text-decoration-color: #7f7f7f\">                   </span>\n",
       "           chunk = <span style=\"color: #800080; text-decoration-color: #800080; font-weight: bold\">tuple</span><span style=\"font-weight: bold\">(</span><span style=\"color: #800080; text-decoration-color: #800080; font-weight: bold\">islice</span><span style=\"font-weight: bold\">(</span>iterator, batch_size<span style=\"font-weight: bold\">))</span>                                          <span style=\"color: #7f7f7f; text-decoration-color: #7f7f7f\">                   </span>\n",
       "         File                                                                                   <span style=\"color: #7f7f7f; text-decoration-color: #7f7f7f\">                   </span>\n",
       "       <span style=\"color: #008000; text-decoration-color: #008000\">\"/home/codespace/.python/current/lib/python3.10/site-packages/clip_client/client.py\"</span>,    <span style=\"color: #7f7f7f; text-decoration-color: #7f7f7f\">                   </span>\n",
       "       line <span style=\"color: #008080; text-decoration-color: #008080; font-weight: bold\">179</span>, in _iter_doc                                                                   <span style=\"color: #7f7f7f; text-decoration-color: #7f7f7f\">                   </span>\n",
       "           <span style=\"font-weight: bold\">)</span><span style=\"color: #800080; text-decoration-color: #800080; font-weight: bold\">.load_uri_to_blob</span><span style=\"font-weight: bold\">()</span>                                                                 <span style=\"color: #7f7f7f; text-decoration-color: #7f7f7f\">                   </span>\n",
       "         File                                                                                   <span style=\"color: #7f7f7f; text-decoration-color: #7f7f7f\">                   </span>\n",
       "       <span style=\"color: #008000; text-decoration-color: #008000\">\"/home/codespace/.python/current/lib/python3.10/site-packages/docarray/document/mixins/…</span> <span style=\"color: #7f7f7f; text-decoration-color: #7f7f7f\">                   </span>\n",
       "       line <span style=\"color: #008080; text-decoration-color: #008080; font-weight: bold\">19</span>, in load_uri_to_blob                                                             <span style=\"color: #7f7f7f; text-decoration-color: #7f7f7f\">                   </span>\n",
       "           self.blob = <span style=\"color: #800080; text-decoration-color: #800080; font-weight: bold\">_uri_to_blob</span><span style=\"font-weight: bold\">(</span>self.uri, **kwargs<span style=\"font-weight: bold\">)</span>                                         <span style=\"color: #7f7f7f; text-decoration-color: #7f7f7f\">                   </span>\n",
       "         File                                                                                   <span style=\"color: #7f7f7f; text-decoration-color: #7f7f7f\">                   </span>\n",
       "       <span style=\"color: #008000; text-decoration-color: #008000\">\"/home/codespace/.python/current/lib/python3.10/site-packages/docarray/document/mixins/…</span> <span style=\"color: #7f7f7f; text-decoration-color: #7f7f7f\">                   </span>\n",
       "       line <span style=\"color: #008080; text-decoration-color: #008080; font-weight: bold\">24</span>, in _uri_to_blob                                                                 <span style=\"color: #7f7f7f; text-decoration-color: #7f7f7f\">                   </span>\n",
       "           raise <span style=\"color: #800080; text-decoration-color: #800080; font-weight: bold\">FileNotFoundError</span><span style=\"font-weight: bold\">(</span>f'`<span style=\"font-weight: bold\">{</span>uri<span style=\"font-weight: bold\">}</span>` is not a URL or a valid local path'<span style=\"font-weight: bold\">)</span>               <span style=\"color: #7f7f7f; text-decoration-color: #7f7f7f\">                   </span>\n",
       "       FileNotFoundError: `apple.png` is not a URL or a valid local path                        <span style=\"color: #7f7f7f; text-decoration-color: #7f7f7f\">                   </span>\n",
       "</pre>\n"
      ],
      "text/plain": [
       "\u001b[1;7;31mCRITI…\u001b[0m JINA@\u001b[1;36m8338\u001b[0m inputs is not valid! \u001b[1;35mFileNotFoundError\u001b[0m\u001b[1m(\u001b[0m\u001b[32m'`apple.png` is not a URL or a valid \u001b[0m   \u001b[2m[01/06/24 18:17:18]\u001b[0m\n",
       "       \u001b[32mlocal path'\u001b[0m\u001b[1m)\u001b[0m                                                                             \u001b[2m                   \u001b[0m\n",
       "       Traceback \u001b[1m(\u001b[0mmost recent call last\u001b[1m)\u001b[0m:                                                       \u001b[2m                   \u001b[0m\n",
       "         File                                                                                   \u001b[2m                   \u001b[0m\n",
       "       \u001b[32m\"/home/codespace/.python/current/lib/python3.10/site-packages/jina/clients/request/__in…\u001b[0m \u001b[2m                   \u001b[0m\n",
       "       line \u001b[1;36m72\u001b[0m, in request_generator                                                            \u001b[2m                   \u001b[0m\n",
       "           for batch in \u001b[1;35mbatch_iterator\u001b[0m\u001b[1m(\u001b[0mdata, request_size\u001b[1m)\u001b[0m:                                     \u001b[2m                   \u001b[0m\n",
       "         File \u001b[32m\"/home/codespace/.python/current/lib/python3.10/site-packages/jina/helper.py\"\u001b[0m,    \u001b[2m                   \u001b[0m\n",
       "       line \u001b[1;36m269\u001b[0m, in batch_iterator                                                              \u001b[2m                   \u001b[0m\n",
       "           chunk = \u001b[1;35mtuple\u001b[0m\u001b[1m(\u001b[0m\u001b[1;35mislice\u001b[0m\u001b[1m(\u001b[0miterator, batch_size\u001b[1m)\u001b[0m\u001b[1m)\u001b[0m                                          \u001b[2m                   \u001b[0m\n",
       "         File                                                                                   \u001b[2m                   \u001b[0m\n",
       "       \u001b[32m\"/home/codespace/.python/current/lib/python3.10/site-packages/clip_client/client.py\"\u001b[0m,    \u001b[2m                   \u001b[0m\n",
       "       line \u001b[1;36m179\u001b[0m, in _iter_doc                                                                   \u001b[2m                   \u001b[0m\n",
       "           \u001b[1m)\u001b[0m\u001b[1;35m.load_uri_to_blob\u001b[0m\u001b[1m(\u001b[0m\u001b[1m)\u001b[0m                                                                 \u001b[2m                   \u001b[0m\n",
       "         File                                                                                   \u001b[2m                   \u001b[0m\n",
       "       \u001b[32m\"/home/codespace/.python/current/lib/python3.10/site-packages/docarray/document/mixins/…\u001b[0m \u001b[2m                   \u001b[0m\n",
       "       line \u001b[1;36m19\u001b[0m, in load_uri_to_blob                                                             \u001b[2m                   \u001b[0m\n",
       "           self.blob = \u001b[1;35m_uri_to_blob\u001b[0m\u001b[1m(\u001b[0mself.uri, **kwargs\u001b[1m)\u001b[0m                                         \u001b[2m                   \u001b[0m\n",
       "         File                                                                                   \u001b[2m                   \u001b[0m\n",
       "       \u001b[32m\"/home/codespace/.python/current/lib/python3.10/site-packages/docarray/document/mixins/…\u001b[0m \u001b[2m                   \u001b[0m\n",
       "       line \u001b[1;36m24\u001b[0m, in _uri_to_blob                                                                 \u001b[2m                   \u001b[0m\n",
       "           raise \u001b[1;35mFileNotFoundError\u001b[0m\u001b[1m(\u001b[0mf'`\u001b[1m{\u001b[0muri\u001b[1m}\u001b[0m` is not a URL or a valid local path'\u001b[1m)\u001b[0m               \u001b[2m                   \u001b[0m\n",
       "       FileNotFoundError: `apple.png` is not a URL or a valid local path                        \u001b[2m                   \u001b[0m\n"
      ]
     },
     "metadata": {},
     "output_type": "display_data"
    },
    {
     "data": {
      "text/html": [
       "<pre style=\"white-space:pre;overflow-x:auto;line-height:normal;font-family:Menlo,'DejaVu Sans Mono',consolas,'Courier New',monospace\">\n",
       "</pre>\n"
      ],
      "text/plain": [
       "\n"
      ]
     },
     "metadata": {},
     "output_type": "display_data"
    },
    {
     "data": {
      "text/html": [
       "<pre style=\"white-space:pre;overflow-x:auto;line-height:normal;font-family:Menlo,'DejaVu Sans Mono',consolas,'Courier New',monospace\"><span style=\"color: #800000; text-decoration-color: #800000\">WARNI…</span> GRPCClient@<span style=\"color: #008080; text-decoration-color: #008080; font-weight: bold\">8338</span> process error: <span style=\"color: #800080; text-decoration-color: #800080; font-weight: bold\">CancelledError</span><span style=\"font-weight: bold\">()</span>                                          <span style=\"color: #7f7f7f; text-decoration-color: #7f7f7f\">[01/06/24 18:17:18]</span>\n",
       "</pre>\n"
      ],
      "text/plain": [
       "\u001b[31mWARNI…\u001b[0m GRPCClient@\u001b[1;36m8338\u001b[0m process error: \u001b[1;35mCancelledError\u001b[0m\u001b[1m(\u001b[0m\u001b[1m)\u001b[0m                                          \u001b[2m[01/06/24 18:17:18]\u001b[0m\n"
      ]
     },
     "metadata": {},
     "output_type": "display_data"
    },
    {
     "name": "stderr",
     "output_type": "stream",
     "text": [
      "Exception in thread Thread-33:\n",
      "Traceback (most recent call last):\n",
      "  File \"/home/codespace/.python/current/lib/python3.10/site-packages/jina/clients/mixin.py\", line 409, in _get_results\n",
      "    async for resp in c._get_results(*args, **kwargs):\n",
      "  File \"/home/codespace/.python/current/lib/python3.10/site-packages/jina/clients/base/grpc.py\", line 145, in _get_results\n",
      "    async for response in stream_rpc.stream_rpc_with_retry():\n",
      "  File \"/home/codespace/.python/current/lib/python3.10/site-packages/jina/clients/base/stream_rpc.py\", line 51, in stream_rpc_with_retry\n",
      "    async for resp in stub.Call(\n",
      "  File \"/home/codespace/.python/current/lib/python3.10/site-packages/grpc/aio/_call.py\", line 344, in _fetch_stream_responses\n",
      "    await self._raise_for_status()\n",
      "  File \"/home/codespace/.python/current/lib/python3.10/site-packages/grpc/aio/_call.py\", line 248, in _raise_for_status\n",
      "    raise asyncio.CancelledError()\n",
      "asyncio.exceptions.CancelledError\n",
      "\n",
      "During handling of the above exception, another exception occurred:\n",
      "\n",
      "Traceback (most recent call last):\n",
      "  File \"/home/codespace/.python/current/lib/python3.10/threading.py\", line 1016, in _bootstrap_inner\n",
      "    self.run()\n",
      "  File \"/home/codespace/.python/current/lib/python3.10/site-packages/jina/helper.py\", line 1297, in run\n",
      "    self.result = asyncio.run(func(*args, **kwargs))\n",
      "  File \"/home/codespace/.python/current/lib/python3.10/asyncio/runners.py\", line 44, in run\n",
      "    return loop.run_until_complete(main)\n",
      "  File \"/home/codespace/.python/current/lib/python3.10/asyncio/base_events.py\", line 649, in run_until_complete\n",
      "    return future.result()\n",
      "asyncio.exceptions.CancelledError\n"
     ]
    },
    {
     "data": {
      "text/html": [
       "<pre style=\"white-space:pre;overflow-x:auto;line-height:normal;font-family:Menlo,'DejaVu Sans Mono',consolas,'Courier New',monospace\">\n",
       "</pre>\n"
      ],
      "text/plain": [
       "\n"
      ]
     },
     "metadata": {},
     "output_type": "display_data"
    },
    {
     "ename": "BadClient",
     "evalue": "something wrong when running the eventloop, result can not be retrieved",
     "output_type": "error",
     "traceback": [
      "\u001b[0;31m---------------------------------------------------------------------------\u001b[0m",
      "\u001b[0;31mAttributeError\u001b[0m                            Traceback (most recent call last)",
      "File \u001b[0;32m~/.python/current/lib/python3.10/site-packages/jina/helper.py:1311\u001b[0m, in \u001b[0;36mrun_async\u001b[0;34m(func, *args, **kwargs)\u001b[0m\n\u001b[1;32m   1310\u001b[0m \u001b[38;5;28;01mtry\u001b[39;00m:\n\u001b[0;32m-> 1311\u001b[0m     \u001b[38;5;28;01mreturn\u001b[39;00m \u001b[43mthread\u001b[49m\u001b[38;5;241;43m.\u001b[39;49m\u001b[43mresult\u001b[49m\n\u001b[1;32m   1312\u001b[0m \u001b[38;5;28;01mexcept\u001b[39;00m \u001b[38;5;167;01mAttributeError\u001b[39;00m:\n",
      "\u001b[0;31mAttributeError\u001b[0m: '_RunThread' object has no attribute 'result'",
      "\nDuring handling of the above exception, another exception occurred:\n",
      "\u001b[0;31mBadClient\u001b[0m                                 Traceback (most recent call last)",
      "Cell \u001b[0;32mIn[7], line 8\u001b[0m\n\u001b[1;32m      5\u001b[0m r \u001b[38;5;241m=\u001b[39m c\u001b[38;5;241m.\u001b[39mencode([\u001b[38;5;124m'\u001b[39m\u001b[38;5;124mFirst do it\u001b[39m\u001b[38;5;124m'\u001b[39m, \u001b[38;5;124m'\u001b[39m\u001b[38;5;124mthen do it right\u001b[39m\u001b[38;5;124m'\u001b[39m, \u001b[38;5;124m'\u001b[39m\u001b[38;5;124mthen do it better\u001b[39m\u001b[38;5;124m'\u001b[39m])\n\u001b[1;32m      6\u001b[0m \u001b[38;5;28mprint\u001b[39m(r\u001b[38;5;241m.\u001b[39mshape)  \u001b[38;5;66;03m# [3, 512] \u001b[39;00m\n\u001b[0;32m----> 8\u001b[0m r \u001b[38;5;241m=\u001b[39m \u001b[43mc\u001b[49m\u001b[38;5;241;43m.\u001b[39;49m\u001b[43mencode\u001b[49m\u001b[43m(\u001b[49m\u001b[43m[\u001b[49m\u001b[38;5;124;43m'\u001b[39;49m\u001b[38;5;124;43mapple.png\u001b[39;49m\u001b[38;5;124;43m'\u001b[39;49m\u001b[43m,\u001b[49m\u001b[43m  \u001b[49m\u001b[38;5;66;43;03m# local image \u001b[39;49;00m\n\u001b[1;32m      9\u001b[0m \u001b[43m              \u001b[49m\u001b[38;5;124;43m'\u001b[39;49m\u001b[38;5;124;43mhttps://clip-as-service.jina.ai/_static/favicon.png\u001b[39;49m\u001b[38;5;124;43m'\u001b[39;49m\u001b[43m,\u001b[49m\u001b[43m  \u001b[49m\u001b[38;5;66;43;03m# remote image\u001b[39;49;00m\n\u001b[1;32m     10\u001b[0m \u001b[43m              \u001b[49m\u001b[38;5;124;43m'\u001b[39;49m\u001b[38;5;124;43mdata:image/gif;base64,R0lGODlhEAAQAMQAAORHHOVSKudfOulrSOp3WOyDZu6QdvCchPGolfO0o/XBs/fNwfjZ0frl3/zy7////wAAAAAAAAAAAAAAAAAAAAAAAAAAAAAAAAAAAAAAAAAAAAAAAAAAAAAAAAAAAAAAACH5BAkAABAALAAAAAAQABAAAAVVICSOZGlCQAosJ6mu7fiyZeKqNKToQGDsM8hBADgUXoGAiqhSvp5QAnQKGIgUhwFUYLCVDFCrKUE1lBavAViFIDlTImbKC5Gm2hB0SlBCBMQiB0UjIQA7\u001b[39;49m\u001b[38;5;124;43m'\u001b[39;49m\u001b[43m]\u001b[49m\u001b[43m)\u001b[49m  \u001b[38;5;66;03m# in image URI\u001b[39;00m\n\u001b[1;32m     12\u001b[0m \u001b[38;5;28mprint\u001b[39m(r\u001b[38;5;241m.\u001b[39mshape)  \u001b[38;5;66;03m# [3, 512]\u001b[39;00m\n",
      "File \u001b[0;32m~/.python/current/lib/python3.10/site-packages/clip_client/client.py:319\u001b[0m, in \u001b[0;36mClient.encode\u001b[0;34m(self, content, **kwargs)\u001b[0m\n\u001b[1;32m    314\u001b[0m     parameters[\u001b[38;5;124m'\u001b[39m\u001b[38;5;124mdrop_image_content\u001b[39m\u001b[38;5;124m'\u001b[39m] \u001b[38;5;241m=\u001b[39m parameters\u001b[38;5;241m.\u001b[39mget(\n\u001b[1;32m    315\u001b[0m         \u001b[38;5;124m'\u001b[39m\u001b[38;5;124mdrop_image_content\u001b[39m\u001b[38;5;124m'\u001b[39m, \u001b[38;5;28;01mTrue\u001b[39;00m\n\u001b[1;32m    316\u001b[0m     )\n\u001b[1;32m    317\u001b[0m     model_name \u001b[38;5;241m=\u001b[39m parameters\u001b[38;5;241m.\u001b[39mpop(\u001b[38;5;124m'\u001b[39m\u001b[38;5;124mmodel_name\u001b[39m\u001b[38;5;124m'\u001b[39m, \u001b[38;5;124m'\u001b[39m\u001b[38;5;124m'\u001b[39m) \u001b[38;5;28;01mif\u001b[39;00m parameters \u001b[38;5;28;01melse\u001b[39;00m \u001b[38;5;124m'\u001b[39m\u001b[38;5;124m'\u001b[39m\n\u001b[0;32m--> 319\u001b[0m     \u001b[38;5;28;43mself\u001b[39;49m\u001b[38;5;241;43m.\u001b[39;49m\u001b[43m_client\u001b[49m\u001b[38;5;241;43m.\u001b[39;49m\u001b[43mpost\u001b[49m\u001b[43m(\u001b[49m\n\u001b[1;32m    320\u001b[0m \u001b[43m        \u001b[49m\u001b[43mon\u001b[49m\u001b[38;5;241;43m=\u001b[39;49m\u001b[38;5;124;43mf\u001b[39;49m\u001b[38;5;124;43m'\u001b[39;49m\u001b[38;5;124;43m/encode/\u001b[39;49m\u001b[38;5;132;43;01m{\u001b[39;49;00m\u001b[43mmodel_name\u001b[49m\u001b[38;5;132;43;01m}\u001b[39;49;00m\u001b[38;5;124;43m'\u001b[39;49m\u001b[38;5;241;43m.\u001b[39;49m\u001b[43mrstrip\u001b[49m\u001b[43m(\u001b[49m\u001b[38;5;124;43m'\u001b[39;49m\u001b[38;5;124;43m/\u001b[39;49m\u001b[38;5;124;43m'\u001b[39;49m\u001b[43m)\u001b[49m\u001b[43m,\u001b[49m\n\u001b[1;32m    321\u001b[0m \u001b[43m        \u001b[49m\u001b[38;5;241;43m*\u001b[39;49m\u001b[38;5;241;43m*\u001b[39;49m\u001b[38;5;28;43mself\u001b[39;49m\u001b[38;5;241;43m.\u001b[39;49m\u001b[43m_get_post_payload\u001b[49m\u001b[43m(\u001b[49m\u001b[43mcontent\u001b[49m\u001b[43m,\u001b[49m\u001b[43m \u001b[49m\u001b[43mresults\u001b[49m\u001b[43m,\u001b[49m\u001b[43m \u001b[49m\u001b[38;5;241;43m*\u001b[39;49m\u001b[38;5;241;43m*\u001b[39;49m\u001b[43mkwargs\u001b[49m\u001b[43m)\u001b[49m\u001b[43m,\u001b[49m\n\u001b[1;32m    322\u001b[0m \u001b[43m        \u001b[49m\u001b[43mon_done\u001b[49m\u001b[38;5;241;43m=\u001b[39;49m\u001b[43mon_done\u001b[49m\u001b[43m,\u001b[49m\n\u001b[1;32m    323\u001b[0m \u001b[43m        \u001b[49m\u001b[43mon_error\u001b[49m\u001b[38;5;241;43m=\u001b[39;49m\u001b[43mon_error\u001b[49m\u001b[43m,\u001b[49m\n\u001b[1;32m    324\u001b[0m \u001b[43m        \u001b[49m\u001b[43mon_always\u001b[49m\u001b[38;5;241;43m=\u001b[39;49m\u001b[43mpartial\u001b[49m\u001b[43m(\u001b[49m\u001b[38;5;28;43mself\u001b[39;49m\u001b[38;5;241;43m.\u001b[39;49m\u001b[43m_update_pbar\u001b[49m\u001b[43m,\u001b[49m\u001b[43m \u001b[49m\u001b[43mfunc\u001b[49m\u001b[38;5;241;43m=\u001b[39;49m\u001b[43mon_always\u001b[49m\u001b[43m)\u001b[49m\u001b[43m,\u001b[49m\n\u001b[1;32m    325\u001b[0m \u001b[43m        \u001b[49m\u001b[43mparameters\u001b[49m\u001b[38;5;241;43m=\u001b[39;49m\u001b[43mparameters\u001b[49m\u001b[43m,\u001b[49m\n\u001b[1;32m    326\u001b[0m \u001b[43m        \u001b[49m\u001b[43mprefetch\u001b[49m\u001b[38;5;241;43m=\u001b[39;49m\u001b[43mprefetch\u001b[49m\u001b[43m,\u001b[49m\n\u001b[1;32m    327\u001b[0m \u001b[43m    \u001b[49m\u001b[43m)\u001b[49m\n\u001b[1;32m    329\u001b[0m unbox \u001b[38;5;241m=\u001b[39m \u001b[38;5;28mhasattr\u001b[39m(content, \u001b[38;5;124m'\u001b[39m\u001b[38;5;124m__len__\u001b[39m\u001b[38;5;124m'\u001b[39m) \u001b[38;5;129;01mand\u001b[39;00m \u001b[38;5;28misinstance\u001b[39m(content[\u001b[38;5;241m0\u001b[39m], \u001b[38;5;28mstr\u001b[39m)\n\u001b[1;32m    330\u001b[0m \u001b[38;5;28;01mreturn\u001b[39;00m \u001b[38;5;28mself\u001b[39m\u001b[38;5;241m.\u001b[39m_unboxed_result(results, unbox)\n",
      "File \u001b[0;32m~/.python/current/lib/python3.10/site-packages/jina/clients/mixin.py:423\u001b[0m, in \u001b[0;36mPostMixin.post\u001b[0;34m(self, on, inputs, on_done, on_error, on_always, parameters, target_executor, request_size, show_progress, continue_on_error, return_responses, max_attempts, initial_backoff, max_backoff, backoff_multiplier, results_in_order, stream, prefetch, return_type, **kwargs)\u001b[0m\n\u001b[1;32m    420\u001b[0m         \u001b[38;5;28;01melse\u001b[39;00m:\n\u001b[1;32m    421\u001b[0m             \u001b[38;5;28;01mreturn\u001b[39;00m result\n\u001b[0;32m--> 423\u001b[0m \u001b[38;5;28;01mreturn\u001b[39;00m \u001b[38;5;28;43mself\u001b[39;49m\u001b[38;5;241;43m.\u001b[39;49m\u001b[43m_with_retry\u001b[49m\u001b[43m(\u001b[49m\n\u001b[1;32m    424\u001b[0m \u001b[43m    \u001b[49m\u001b[43mfunc\u001b[49m\u001b[38;5;241;43m=\u001b[39;49m\u001b[43m_get_results\u001b[49m\u001b[43m,\u001b[49m\n\u001b[1;32m    425\u001b[0m \u001b[43m    \u001b[49m\u001b[43minputs\u001b[49m\u001b[38;5;241;43m=\u001b[39;49m\u001b[43minputs\u001b[49m\u001b[43m,\u001b[49m\n\u001b[1;32m    426\u001b[0m \u001b[43m    \u001b[49m\u001b[43mon_done\u001b[49m\u001b[38;5;241;43m=\u001b[39;49m\u001b[43mon_done\u001b[49m\u001b[43m,\u001b[49m\n\u001b[1;32m    427\u001b[0m \u001b[43m    \u001b[49m\u001b[43mon_error\u001b[49m\u001b[38;5;241;43m=\u001b[39;49m\u001b[43mon_error\u001b[49m\u001b[43m,\u001b[49m\n\u001b[1;32m    428\u001b[0m \u001b[43m    \u001b[49m\u001b[43mon_always\u001b[49m\u001b[38;5;241;43m=\u001b[39;49m\u001b[43mon_always\u001b[49m\u001b[43m,\u001b[49m\n\u001b[1;32m    429\u001b[0m \u001b[43m    \u001b[49m\u001b[43mexec_endpoint\u001b[49m\u001b[38;5;241;43m=\u001b[39;49m\u001b[43mon\u001b[49m\u001b[43m,\u001b[49m\n\u001b[1;32m    430\u001b[0m \u001b[43m    \u001b[49m\u001b[43mtarget_executor\u001b[49m\u001b[38;5;241;43m=\u001b[39;49m\u001b[43mtarget_executor\u001b[49m\u001b[43m,\u001b[49m\n\u001b[1;32m    431\u001b[0m \u001b[43m    \u001b[49m\u001b[43mparameters\u001b[49m\u001b[38;5;241;43m=\u001b[39;49m\u001b[43mparameters\u001b[49m\u001b[43m,\u001b[49m\n\u001b[1;32m    432\u001b[0m \u001b[43m    \u001b[49m\u001b[43mrequest_size\u001b[49m\u001b[38;5;241;43m=\u001b[39;49m\u001b[43mrequest_size\u001b[49m\u001b[43m,\u001b[49m\n\u001b[1;32m    433\u001b[0m \u001b[43m    \u001b[49m\u001b[43mmax_attempts\u001b[49m\u001b[38;5;241;43m=\u001b[39;49m\u001b[38;5;28;43mmax\u001b[39;49m\u001b[43m(\u001b[49m\u001b[43mmax_attempts\u001b[49m\u001b[43m,\u001b[49m\u001b[43m \u001b[49m\u001b[38;5;241;43m1\u001b[39;49m\u001b[43m)\u001b[49m\u001b[43m,\u001b[49m\n\u001b[1;32m    434\u001b[0m \u001b[43m    \u001b[49m\u001b[43minitial_backoff\u001b[49m\u001b[38;5;241;43m=\u001b[39;49m\u001b[43minitial_backoff\u001b[49m\u001b[43m,\u001b[49m\n\u001b[1;32m    435\u001b[0m \u001b[43m    \u001b[49m\u001b[43mmax_backoff\u001b[49m\u001b[38;5;241;43m=\u001b[39;49m\u001b[43mmax_backoff\u001b[49m\u001b[43m,\u001b[49m\n\u001b[1;32m    436\u001b[0m \u001b[43m    \u001b[49m\u001b[43mbackoff_multiplier\u001b[49m\u001b[38;5;241;43m=\u001b[39;49m\u001b[43mbackoff_multiplier\u001b[49m\u001b[43m,\u001b[49m\n\u001b[1;32m    437\u001b[0m \u001b[43m    \u001b[49m\u001b[43mresults_in_order\u001b[49m\u001b[38;5;241;43m=\u001b[39;49m\u001b[43mresults_in_order\u001b[49m\u001b[43m,\u001b[49m\n\u001b[1;32m    438\u001b[0m \u001b[43m    \u001b[49m\u001b[43mstream\u001b[49m\u001b[38;5;241;43m=\u001b[39;49m\u001b[43mstream\u001b[49m\u001b[43m,\u001b[49m\n\u001b[1;32m    439\u001b[0m \u001b[43m    \u001b[49m\u001b[43mprefetch\u001b[49m\u001b[38;5;241;43m=\u001b[39;49m\u001b[43mprefetch\u001b[49m\u001b[43m,\u001b[49m\n\u001b[1;32m    440\u001b[0m \u001b[43m    \u001b[49m\u001b[43mon\u001b[49m\u001b[38;5;241;43m=\u001b[39;49m\u001b[43mon\u001b[49m\u001b[43m,\u001b[49m\n\u001b[1;32m    441\u001b[0m \u001b[43m    \u001b[49m\u001b[38;5;241;43m*\u001b[39;49m\u001b[38;5;241;43m*\u001b[39;49m\u001b[43mkwargs\u001b[49m\u001b[43m,\u001b[49m\n\u001b[1;32m    442\u001b[0m \u001b[43m\u001b[49m\u001b[43m)\u001b[49m\n",
      "File \u001b[0;32m~/.python/current/lib/python3.10/site-packages/jina/clients/mixin.py:280\u001b[0m, in \u001b[0;36mPostMixin._with_retry\u001b[0;34m(self, func, inputs, on_done, on_error, on_always, exec_endpoint, target_executor, parameters, request_size, max_attempts, initial_backoff, max_backoff, backoff_multiplier, results_in_order, stream, prefetch, **kwargs)\u001b[0m\n\u001b[1;32m    270\u001b[0m             run_async(\n\u001b[1;32m    271\u001b[0m                 wait_or_raise_err,\n\u001b[1;32m    272\u001b[0m                 attempt\u001b[38;5;241m=\u001b[39mattempt,\n\u001b[0;32m   (...)\u001b[0m\n\u001b[1;32m    277\u001b[0m                 max_backoff\u001b[38;5;241m=\u001b[39mmax_backoff,\n\u001b[1;32m    278\u001b[0m             )\n\u001b[1;32m    279\u001b[0m \u001b[38;5;28;01melse\u001b[39;00m:\n\u001b[0;32m--> 280\u001b[0m     \u001b[38;5;28;01mreturn\u001b[39;00m \u001b[43mPostMixin\u001b[49m\u001b[38;5;241;43m.\u001b[39;49m\u001b[43m_run_async\u001b[49m\u001b[43m(\u001b[49m\n\u001b[1;32m    281\u001b[0m \u001b[43m        \u001b[49m\u001b[43mbackoff_multiplier\u001b[49m\u001b[43m,\u001b[49m\n\u001b[1;32m    282\u001b[0m \u001b[43m        \u001b[49m\u001b[43mexec_endpoint\u001b[49m\u001b[43m,\u001b[49m\n\u001b[1;32m    283\u001b[0m \u001b[43m        \u001b[49m\u001b[43mfunc\u001b[49m\u001b[43m,\u001b[49m\n\u001b[1;32m    284\u001b[0m \u001b[43m        \u001b[49m\u001b[43minitial_backoff\u001b[49m\u001b[43m,\u001b[49m\n\u001b[1;32m    285\u001b[0m \u001b[43m        \u001b[49m\u001b[43minputs\u001b[49m\u001b[43m,\u001b[49m\n\u001b[1;32m    286\u001b[0m \u001b[43m        \u001b[49m\u001b[43mkwargs\u001b[49m\u001b[43m,\u001b[49m\n\u001b[1;32m    287\u001b[0m \u001b[43m        \u001b[49m\u001b[43mmax_attempts\u001b[49m\u001b[43m,\u001b[49m\n\u001b[1;32m    288\u001b[0m \u001b[43m        \u001b[49m\u001b[43mmax_backoff\u001b[49m\u001b[43m,\u001b[49m\n\u001b[1;32m    289\u001b[0m \u001b[43m        \u001b[49m\u001b[43mon_always\u001b[49m\u001b[43m,\u001b[49m\n\u001b[1;32m    290\u001b[0m \u001b[43m        \u001b[49m\u001b[43mon_done\u001b[49m\u001b[43m,\u001b[49m\n\u001b[1;32m    291\u001b[0m \u001b[43m        \u001b[49m\u001b[43mon_error\u001b[49m\u001b[43m,\u001b[49m\n\u001b[1;32m    292\u001b[0m \u001b[43m        \u001b[49m\u001b[43mparameters\u001b[49m\u001b[43m,\u001b[49m\n\u001b[1;32m    293\u001b[0m \u001b[43m        \u001b[49m\u001b[43mprefetch\u001b[49m\u001b[43m,\u001b[49m\n\u001b[1;32m    294\u001b[0m \u001b[43m        \u001b[49m\u001b[43mrequest_size\u001b[49m\u001b[43m,\u001b[49m\n\u001b[1;32m    295\u001b[0m \u001b[43m        \u001b[49m\u001b[43mresults_in_order\u001b[49m\u001b[43m,\u001b[49m\n\u001b[1;32m    296\u001b[0m \u001b[43m        \u001b[49m\u001b[43mstream\u001b[49m\u001b[43m,\u001b[49m\n\u001b[1;32m    297\u001b[0m \u001b[43m        \u001b[49m\u001b[43mtarget_executor\u001b[49m\u001b[43m,\u001b[49m\n\u001b[1;32m    298\u001b[0m \u001b[43m    \u001b[49m\u001b[43m)\u001b[49m\n",
      "File \u001b[0;32m~/.python/current/lib/python3.10/site-packages/jina/clients/mixin.py:320\u001b[0m, in \u001b[0;36mPostMixin._run_async\u001b[0;34m(backoff_multiplier, exec_endpoint, func, initial_backoff, inputs, kwargs, max_attempts, max_backoff, on_always, on_done, on_error, parameters, prefetch, request_size, results_in_order, stream, target_executor)\u001b[0m\n\u001b[1;32m    300\u001b[0m \u001b[38;5;129m@staticmethod\u001b[39m\n\u001b[1;32m    301\u001b[0m \u001b[38;5;28;01mdef\u001b[39;00m \u001b[38;5;21m_run_async\u001b[39m(\n\u001b[1;32m    302\u001b[0m     backoff_multiplier,\n\u001b[0;32m   (...)\u001b[0m\n\u001b[1;32m    318\u001b[0m     target_executor,\n\u001b[1;32m    319\u001b[0m ):\n\u001b[0;32m--> 320\u001b[0m     \u001b[38;5;28;01mreturn\u001b[39;00m \u001b[43mrun_async\u001b[49m\u001b[43m(\u001b[49m\n\u001b[1;32m    321\u001b[0m \u001b[43m        \u001b[49m\u001b[43mfunc\u001b[49m\u001b[43m,\u001b[49m\n\u001b[1;32m    322\u001b[0m \u001b[43m        \u001b[49m\u001b[43minputs\u001b[49m\u001b[38;5;241;43m=\u001b[39;49m\u001b[43minputs\u001b[49m\u001b[43m,\u001b[49m\n\u001b[1;32m    323\u001b[0m \u001b[43m        \u001b[49m\u001b[43mon_done\u001b[49m\u001b[38;5;241;43m=\u001b[39;49m\u001b[43mon_done\u001b[49m\u001b[43m,\u001b[49m\n\u001b[1;32m    324\u001b[0m \u001b[43m        \u001b[49m\u001b[43mon_error\u001b[49m\u001b[38;5;241;43m=\u001b[39;49m\u001b[43mon_error\u001b[49m\u001b[43m,\u001b[49m\n\u001b[1;32m    325\u001b[0m \u001b[43m        \u001b[49m\u001b[43mon_always\u001b[49m\u001b[38;5;241;43m=\u001b[39;49m\u001b[43mon_always\u001b[49m\u001b[43m,\u001b[49m\n\u001b[1;32m    326\u001b[0m \u001b[43m        \u001b[49m\u001b[43mexec_endpoint\u001b[49m\u001b[38;5;241;43m=\u001b[39;49m\u001b[43mexec_endpoint\u001b[49m\u001b[43m,\u001b[49m\n\u001b[1;32m    327\u001b[0m \u001b[43m        \u001b[49m\u001b[43mtarget_executor\u001b[49m\u001b[38;5;241;43m=\u001b[39;49m\u001b[43mtarget_executor\u001b[49m\u001b[43m,\u001b[49m\n\u001b[1;32m    328\u001b[0m \u001b[43m        \u001b[49m\u001b[43mparameters\u001b[49m\u001b[38;5;241;43m=\u001b[39;49m\u001b[43mparameters\u001b[49m\u001b[43m,\u001b[49m\n\u001b[1;32m    329\u001b[0m \u001b[43m        \u001b[49m\u001b[43mrequest_size\u001b[49m\u001b[38;5;241;43m=\u001b[39;49m\u001b[43mrequest_size\u001b[49m\u001b[43m,\u001b[49m\n\u001b[1;32m    330\u001b[0m \u001b[43m        \u001b[49m\u001b[43mmax_attempts\u001b[49m\u001b[38;5;241;43m=\u001b[39;49m\u001b[43mmax_attempts\u001b[49m\u001b[43m,\u001b[49m\n\u001b[1;32m    331\u001b[0m \u001b[43m        \u001b[49m\u001b[43minitial_backoff\u001b[49m\u001b[38;5;241;43m=\u001b[39;49m\u001b[43minitial_backoff\u001b[49m\u001b[43m,\u001b[49m\n\u001b[1;32m    332\u001b[0m \u001b[43m        \u001b[49m\u001b[43mmax_backoff\u001b[49m\u001b[38;5;241;43m=\u001b[39;49m\u001b[43mmax_backoff\u001b[49m\u001b[43m,\u001b[49m\n\u001b[1;32m    333\u001b[0m \u001b[43m        \u001b[49m\u001b[43mbackoff_multiplier\u001b[49m\u001b[38;5;241;43m=\u001b[39;49m\u001b[43mbackoff_multiplier\u001b[49m\u001b[43m,\u001b[49m\n\u001b[1;32m    334\u001b[0m \u001b[43m        \u001b[49m\u001b[43mresults_in_order\u001b[49m\u001b[38;5;241;43m=\u001b[39;49m\u001b[43mresults_in_order\u001b[49m\u001b[43m,\u001b[49m\n\u001b[1;32m    335\u001b[0m \u001b[43m        \u001b[49m\u001b[43mstream\u001b[49m\u001b[38;5;241;43m=\u001b[39;49m\u001b[43mstream\u001b[49m\u001b[43m,\u001b[49m\n\u001b[1;32m    336\u001b[0m \u001b[43m        \u001b[49m\u001b[43mprefetch\u001b[49m\u001b[38;5;241;43m=\u001b[39;49m\u001b[43mprefetch\u001b[49m\u001b[43m,\u001b[49m\n\u001b[1;32m    337\u001b[0m \u001b[43m        \u001b[49m\u001b[38;5;241;43m*\u001b[39;49m\u001b[38;5;241;43m*\u001b[39;49m\u001b[43mkwargs\u001b[49m\u001b[43m,\u001b[49m\n\u001b[1;32m    338\u001b[0m \u001b[43m    \u001b[49m\u001b[43m)\u001b[49m\n",
      "File \u001b[0;32m~/.python/current/lib/python3.10/site-packages/jina/helper.py:1315\u001b[0m, in \u001b[0;36mrun_async\u001b[0;34m(func, *args, **kwargs)\u001b[0m\n\u001b[1;32m   1312\u001b[0m     \u001b[38;5;28;01mexcept\u001b[39;00m \u001b[38;5;167;01mAttributeError\u001b[39;00m:\n\u001b[1;32m   1313\u001b[0m         \u001b[38;5;28;01mfrom\u001b[39;00m \u001b[38;5;21;01mjina\u001b[39;00m\u001b[38;5;21;01m.\u001b[39;00m\u001b[38;5;21;01mexcepts\u001b[39;00m \u001b[38;5;28;01mimport\u001b[39;00m BadClient\n\u001b[0;32m-> 1315\u001b[0m         \u001b[38;5;28;01mraise\u001b[39;00m BadClient(\n\u001b[1;32m   1316\u001b[0m             \u001b[38;5;124m'\u001b[39m\u001b[38;5;124msomething wrong when running the eventloop, result can not be retrieved\u001b[39m\u001b[38;5;124m'\u001b[39m\n\u001b[1;32m   1317\u001b[0m         )\n\u001b[1;32m   1318\u001b[0m \u001b[38;5;28;01melse\u001b[39;00m:\n\u001b[1;32m   1319\u001b[0m     \u001b[38;5;28;01mreturn\u001b[39;00m asyncio\u001b[38;5;241m.\u001b[39mrun(func(\u001b[38;5;241m*\u001b[39margs, \u001b[38;5;241m*\u001b[39m\u001b[38;5;241m*\u001b[39mkwargs))\n",
      "\u001b[0;31mBadClient\u001b[0m: something wrong when running the eventloop, result can not be retrieved"
     ]
    }
   ],
   "source": [
    "from clip_client import Client\n",
    "c = Client('grpc://172.16.5.4:51000')\n",
    "c.profile()\n",
    "# get text embedding\n",
    "r = c.encode(['First do it', 'then do it right', 'then do it better'])\n",
    "print(r.shape)  # [3, 512] \n",
    "\n",
    "r = c.encode(['apple.png',  # local image \n",
    "              'https://clip-as-service.jina.ai/_static/favicon.png',  # remote image\n",
    "              'data:image/gif;base64,R0lGODlhEAAQAMQAAORHHOVSKudfOulrSOp3WOyDZu6QdvCchPGolfO0o/XBs/fNwfjZ0frl3/zy7////wAAAAAAAAAAAAAAAAAAAAAAAAAAAAAAAAAAAAAAAAAAAAAAAAAAAAAAAAAAAAAAACH5BAkAABAALAAAAAAQABAAAAVVICSOZGlCQAosJ6mu7fiyZeKqNKToQGDsM8hBADgUXoGAiqhSvp5QAnQKGIgUhwFUYLCVDFCrKUE1lBavAViFIDlTImbKC5Gm2hB0SlBCBMQiB0UjIQA7'])  # in image URI\n",
    "\n",
    "print(r.shape)  # [3, 512]"
   ]
  }
 ],
 "metadata": {
  "kernelspec": {
   "display_name": "Python 3",
   "language": "python",
   "name": "python3"
  },
  "language_info": {
   "codemirror_mode": {
    "name": "ipython",
    "version": 3
   },
   "file_extension": ".py",
   "mimetype": "text/x-python",
   "name": "python",
   "nbconvert_exporter": "python",
   "pygments_lexer": "ipython3",
   "version": "3.10.13"
  }
 },
 "nbformat": 4,
 "nbformat_minor": 2
}
